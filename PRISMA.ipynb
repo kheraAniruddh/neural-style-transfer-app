{
  "nbformat": 4,
  "nbformat_minor": 0,
  "metadata": {
    "colab": {
      "name": "PRISMA.ipynb",
      "version": "0.3.2",
      "views": {},
      "default_view": {},
      "provenance": [],
      "collapsed_sections": []
    },
    "kernelspec": {
      "display_name": "Python [default]",
      "language": "python",
      "name": "python3"
    },
    "accelerator": "GPU"
  },
  "cells": [
    {
      "metadata": {
        "id": "LAul9NdTynUK",
        "colab_type": "code",
        "colab": {
          "autoexec": {
            "startup": false,
            "wait_interval": 0
          },
          "base_uri": "https://localhost:8080/",
          "height": 136
        },
        "outputId": "c24f5042-961b-4f8e-8a44-ed97c16c0363",
        "executionInfo": {
          "status": "ok",
          "timestamp": 1526063159271,
          "user_tz": 240,
          "elapsed": 3337,
          "user": {
            "displayName": "Aniruddh Khera",
            "photoUrl": "//lh4.googleusercontent.com/-OJniTeLGVos/AAAAAAAAAAI/AAAAAAAAACQ/Mw-OEk6Wqfg/s50-c-k-no/photo.jpg",
            "userId": "110838098314108725521"
          }
        }
      },
      "cell_type": "code",
      "source": [
        "from __future__ import print_function\n",
        "! pip install dropbox\n",
        "from dropbox import Dropbox\n",
        "\n",
        "import smtplib\n",
        "from email.mime.multipart import MIMEMultipart\n",
        "from email.mime.text import MIMEText\n",
        "from email.mime.base import MIMEBase\n",
        "from email import encoders\n",
        "\n",
        "import time\n",
        "from PIL import Image\n",
        "import numpy as np\n",
        "\n",
        "import tensorflow as tf\n",
        "from tensorflow.contrib.keras import backend\n",
        "from tensorflow.contrib.keras import models\n",
        "from tensorflow.contrib.keras import applications\n",
        "\n",
        "from scipy.optimize import fmin_l_bfgs_b\n",
        "from scipy.misc import imsave\n",
        "from multiprocessing import Pool\n",
        "import os\n",
        "# style_map\n",
        "style_map={}\n",
        "style_map.update({'painting':'painting.jpg'})\n",
        "style_map.update({'wave':'wave.png'})\n",
        "style_map.update({'forest':'forest.jpg'})\n",
        "style_map.update({'marilyn':'marilyn.jpg'})\n",
        "style_map.update({'picasso':'picasso.jpg'})\n",
        "style_map.update({'scream':'scream.jpg'})\n",
        "style_map.update({'scream':'scream.jpg'})\n",
        "style_map.update({'van_gouch':'van_gouch.jpg'})\n",
        "style_map.update({'modern_Art':'modern_Art.jpg'})\n",
        "style_map.update({'rain-princess':'rain-princess.jpg'})\n",
        "style_map.update({'night':'night.jpg'})\n",
        "style_map.update({'gothic':'gothic.jpeg'})\n",
        "style_map.update({'blocks':'blocks.jpeg'})\n",
        "\n",
        "\n",
        "fromaddr = \"<UR_APP_EMAIL>\"\n",
        "pwd = \"<UR_APP_PASSWORD>\"\n",
        "pool = Pool(processes=os.cpu_count())\n",
        "\n",
        "config = tf.ConfigProto()\n",
        "config.gpu_options.allow_growth = True"
      ],
      "execution_count": 5,
      "outputs": [
        {
          "output_type": "stream",
          "text": [
            "Requirement already satisfied: dropbox in /usr/local/lib/python3.6/dist-packages (8.8.1)\r\n",
            "Requirement already satisfied: six>=1.3.0 in /usr/local/lib/python3.6/dist-packages (from dropbox) (1.11.0)\r\n",
            "Requirement already satisfied: requests>=2.16.2 in /usr/local/lib/python3.6/dist-packages (from dropbox) (2.18.4)\r\n",
            "Requirement already satisfied: certifi>=2017.4.17 in /usr/local/lib/python3.6/dist-packages (from requests>=2.16.2->dropbox) (2018.4.16)\r\n",
            "Requirement already satisfied: chardet<3.1.0,>=3.0.2 in /usr/local/lib/python3.6/dist-packages (from requests>=2.16.2->dropbox) (3.0.4)\r\n",
            "Requirement already satisfied: urllib3<1.23,>=1.21.1 in /usr/local/lib/python3.6/dist-packages (from requests>=2.16.2->dropbox) (1.22)\n",
            "Requirement already satisfied: idna<2.7,>=2.5 in /usr/local/lib/python3.6/dist-packages (from requests>=2.16.2->dropbox) (2.6)\n"
          ],
          "name": "stdout"
        }
      ]
    },
    {
      "metadata": {
        "id": "HOAMMdSYH-6Z",
        "colab_type": "code",
        "colab": {
          "autoexec": {
            "startup": false,
            "wait_interval": 0
          }
        }
      },
      "cell_type": "code",
      "source": [
        "def send_email(toaddr, file): \n",
        "\tmsg =MIMEMultipart()\n",
        "\n",
        "\tmsg['From'] = fromaddr\n",
        "\tmsg['To'] = toaddr\n",
        "\tmsg['Subject'] = \"NYU Prisma - your image\"\n",
        "\n",
        "\tbody = \"Hi, PFA your prisma image.\"\n",
        "\n",
        "\tmsg.attach(MIMEText(body, 'plain'))\n",
        "\n",
        "\tattachment = open(\"./\"+file, \"rb\")\n",
        "\n",
        "\tpart = MIMEBase('application', 'octet-stream')\n",
        "\tpart.set_payload((attachment).read())\n",
        "\tencoders.encode_base64(part)\n",
        "\tpart.add_header('Content-Disposition', \"attachment; filename= %s\" % file)\n",
        "\n",
        "\tmsg.attach(part)\n",
        "\n",
        "\tserver = smtplib.SMTP('smtp.gmail.com', 587)\n",
        "\tserver.starttls()\n",
        "\tserver.login(fromaddr, pwd)\n",
        "\ttext = msg.as_string()\n",
        "\tserver.sendmail(fromaddr, toaddr, text)\n",
        "\tserver.quit()      \n",
        "  "
      ],
      "execution_count": 0,
      "outputs": []
    },
    {
      "metadata": {
        "id": "ZwR3xJz_FLWC",
        "colab_type": "code",
        "colab": {
          "autoexec": {
            "startup": false,
            "wait_interval": 0
          }
        }
      },
      "cell_type": "code",
      "source": [
        "def neural_style_script(content_image, style_image):\n",
        "  height = 512\n",
        "  width = 512\n",
        "  temp_name = content_image\n",
        "  content_image = Image.open(content_image)\n",
        "  content_image = content_image.resize((width, height))\n",
        "  style_image = style_map.get(style_image)\n",
        "  style_image = Image.open(style_image)\n",
        "  style_image = style_image.resize((width, height))\n",
        "  \n",
        "  content_array = np.asarray(content_image, dtype='float32')[:,:,0:3]\n",
        "  content_array = np.expand_dims(content_array, axis=0)\n",
        "\n",
        "  style_array = np.asarray(style_image, dtype='float32')[:,:,0:3]\n",
        "  style_array = np.expand_dims(style_array, axis=0)\n",
        "  \n",
        "  \n",
        "\n",
        "  content_array[:, :, :, 0] -= 103.939\n",
        "  content_array[:, :, :, 1] -= 116.779\n",
        "  content_array[:, :, :, 2] -= 123.68\n",
        "  content_array = content_array[:, :, :, ::-1]\n",
        "\n",
        "  style_array[:, :, :, 0] -= 103.939\n",
        "  style_array[:, :, :, 1] -= 116.779\n",
        "  style_array[:, :, :, 2] -= 123.68\n",
        "  style_array = style_array[:, :, :, ::-1]\n",
        "  \n",
        "  \n",
        "  content_image = backend.variable(content_array)\n",
        "  style_image = backend.variable(style_array)\n",
        "  combination_image = backend.placeholder((1, height, width, 3))\n",
        "  \n",
        "  input_tensor = backend.concatenate([content_image, style_image,combination_image], axis=0)\n",
        "  model = applications.VGG16(input_tensor=input_tensor, weights='imagenet',include_top=False)\n",
        "  \n",
        "  \n",
        "  content_weight = 0.025\n",
        "  style_weight = 5.0\n",
        "  total_variation_weight = 1.0\n",
        "  loss = backend.variable(0.)\n",
        "  \n",
        "  layers = dict([(layer.name, layer.output) for layer in model.layers])\n",
        "  def content_loss(content, combination):\n",
        "      return backend.sum(backend.square(combination - content))\n",
        "\n",
        "  layer_features = layers['block2_conv2']\n",
        "  content_image_features = layer_features[0, :, :, :]\n",
        "  combination_features = layer_features[2, :, :, :]\n",
        "\n",
        "  loss = loss + content_weight * content_loss(content_image_features, combination_features)\n",
        "  \n",
        "  def gram_matrix(x):\n",
        "    features = backend.batch_flatten(backend.permute_dimensions(x, (2, 0, 1)))\n",
        "    gram = backend.dot(features, backend.transpose(features))\n",
        "    return gram\n",
        "  \n",
        "  def style_loss(style, combination):\n",
        "    S = gram_matrix(style)\n",
        "    C = gram_matrix(combination)\n",
        "    channels = 3\n",
        "    size = height * width\n",
        "    return backend.sum(backend.square(S - C)) / (4. * (channels ** 2) * (size ** 2))\n",
        "\n",
        "  feature_layers = ['block1_conv2', 'block2_conv2',\n",
        "                    'block3_conv3', 'block4_conv3',\n",
        "                    'block5_conv3']\n",
        "  for layer_name in feature_layers:\n",
        "      layer_features = layers[layer_name]\n",
        "      style_features = layer_features[1, :, :, :]\n",
        "      combination_features = layer_features[2, :, :, :]\n",
        "      sl = style_loss(style_features, combination_features)\n",
        "      loss += (style_weight / len(feature_layers)) * sl\n",
        "  \n",
        "  def total_variation_loss(x):\n",
        "    a = backend.square(x[:, :height-1, :width-1, :] - x[:, 1:, :width-1, :])\n",
        "    b = backend.square(x[:, :height-1, :width-1, :] - x[:, :height-1, 1:, :])\n",
        "    return backend.sum(backend.pow(a + b, 1.25))\n",
        "\n",
        "  loss += total_variation_weight * total_variation_loss(combination_image)\n",
        "  grads = backend.gradients(loss, combination_image)\n",
        "  \n",
        "  outputs = [loss]\n",
        "  outputs += grads\n",
        "  f_outputs = backend.function([combination_image], outputs)\n",
        "\n",
        "  def eval_loss_and_grads(x):\n",
        "      x = x.reshape((1, height, width, 3))\n",
        "      outs = f_outputs([x])\n",
        "      loss_value = outs[0]\n",
        "      grad_values = outs[1].flatten().astype('float64')\n",
        "      return loss_value, grad_values\n",
        "\n",
        "  class Evaluator(object):\n",
        "\n",
        "      def __init__(self):\n",
        "          self.loss_value = None\n",
        "          self.grads_values = None\n",
        "\n",
        "      def loss(self, x):\n",
        "          assert self.loss_value is None\n",
        "          loss_value, grad_values = eval_loss_and_grads(x)\n",
        "          self.loss_value = loss_value\n",
        "          self.grad_values = grad_values\n",
        "          return self.loss_value\n",
        "\n",
        "      def grads(self, x):\n",
        "          assert self.loss_value is not None\n",
        "          grad_values = np.copy(self.grad_values)\n",
        "          self.loss_value = None\n",
        "          self.grad_values = None\n",
        "          return grad_values\n",
        "\n",
        "  evaluator = Evaluator()\n",
        "  x = np.random.uniform(0, 255, (1, height, width, 3)) - 128.\n",
        "\n",
        "  iterations = 5\n",
        "\n",
        "  for i in range(iterations):\n",
        "      print('Start of iteration ',i,\" of \", temp_name)\n",
        "      start_time = time.time()\n",
        "      x, min_val, info = fmin_l_bfgs_b(evaluator.loss, x.flatten(),\n",
        "                                       fprime=evaluator.grads, maxfun=20)\n",
        "      print('Current loss value:', min_val)\n",
        "      end_time = time.time()\n",
        "      print('Iteration %d completed in %ds' % (i, end_time - start_time))\n",
        "  \n",
        "  \n",
        "  x = x.reshape((height, width, 3))\n",
        "  x = x[:, :, ::-1]\n",
        "  x[:, :, 0] += 103.939\n",
        "  x[:, :, 1] += 116.779\n",
        "  x[:, :, 2] += 123.68\n",
        "  x = np.clip(x, 0, 255).astype('uint8')  \n",
        "  Image.fromarray(x).save(temp_name)"
      ],
      "execution_count": 0,
      "outputs": []
    },
    {
      "metadata": {
        "id": "Ww6nqqUEU-Bo",
        "colab_type": "code",
        "colab": {
          "autoexec": {
            "startup": false,
            "wait_interval": 0
          }
        }
      },
      "cell_type": "code",
      "source": [
        ""
      ],
      "execution_count": 0,
      "outputs": []
    },
    {
      "metadata": {
        "id": "hcpIpUGWTnur",
        "colab_type": "code",
        "colab": {
          "autoexec": {
            "startup": false,
            "wait_interval": 0
          }
        }
      },
      "cell_type": "code",
      "source": [
        "def workflow(file):\n",
        "  print(\"---->\",file)\n",
        "  neural_style_script(file.split(\"/\")[0], file.split(\"_\")[0])\n",
        "  with open(file.split(\"/\")[0], \"rb\") as imageFile:\n",
        "    output = imageFile.read()\n",
        "  dbx.files_upload(output,'/prisma/output/'+file.split(\"/\")[1]+'/'+file.split(\"/\")[0])\n",
        "  send_email(file.split(\"/\")[1], file.split(\"/\")[0])"
      ],
      "execution_count": 0,
      "outputs": []
    },
    {
      "metadata": {
        "id": "vh3XDo7_VAKK",
        "colab_type": "code",
        "colab": {
          "autoexec": {
            "startup": false,
            "wait_interval": 0
          }
        }
      },
      "cell_type": "code",
      "source": [
        ""
      ],
      "execution_count": 0,
      "outputs": []
    },
    {
      "metadata": {
        "id": "sAHPiK1gEMqV",
        "colab_type": "code",
        "colab": {
          "autoexec": {
            "startup": false,
            "wait_interval": 0
          },
          "base_uri": "https://localhost:8080/",
          "height": 292
        },
        "outputId": "c2a2df29-aea6-4aee-8985-06998fc92995"
      },
      "cell_type": "code",
      "source": [
        "#API Token\n",
        "dbx = Dropbox('<UR_API_TOKEN>')\n",
        "\n",
        "# Iterate over styles folder and download on colab\n",
        "for entry in dbx.files_list_folder('/prisma/styles/').entries:\n",
        "  dbx.files_download_to_file(\"./\"+entry.name, '/prisma/styles/'+entry.name)  \n",
        "\n",
        "\n",
        "while(True):\n",
        "\n",
        "\n",
        "  # Iterate over output subfolders\n",
        "  out_sub_folders=[]\n",
        "  for entry in dbx.files_list_folder('/prisma/output/').entries:\n",
        "    out_sub_folders.insert(1,entry.name)\n",
        "\n",
        "  # Iterate over files in each output subfolder and add it to a set \n",
        "  out_files = set()\n",
        "  for folder in out_sub_folders:  \n",
        "    for entry in dbx.files_list_folder('/prisma/output/'+folder).entries:\n",
        "      out_files.add(folder+\"/\"+entry.name)\n",
        "\n",
        "  in_sub_folders=[]\n",
        "  to_process_images=[]\n",
        "\n",
        "  # Iterate over input subfolders \n",
        "  for entry in dbx.files_list_folder('/prisma/input/').entries:\n",
        "    in_sub_folders.insert(1, entry.name)\n",
        "\n",
        "  # Iterate over each file in input subfolders and check whether in output folder\n",
        "  # if not add it in to_process_images\n",
        "  for folder in in_sub_folders:  \n",
        "    for entry in dbx.files_list_folder('/prisma/input/'+folder).entries:\n",
        "      if folder+\"/\"+entry.name not in out_files:\n",
        "        to_process_images.insert(1,\"/prisma/input/\"+folder+\"/\"+entry.name)\n",
        "\n",
        "  # download from dropbox, files toprocess\n",
        "  # extract the filename to refer further\n",
        "  filenames_toproc =[]\n",
        "  for file in to_process_images:\n",
        "    tokens= file.split('/')\n",
        "    filenames_toproc.insert(1,tokens[len(tokens)-1]+\"/\"+tokens[len(tokens)-2])\n",
        "    dbx.files_download_to_file(\"./\"+tokens[len(tokens)-1], file)\n",
        "  print(\"submitting files for processing \" + str(filenames_toproc))\n",
        "  try:\n",
        "    for file in filenames_toproc:\n",
        "    #pool.map(workflow, filenames_toproc)\n",
        "      workflow(file)\n",
        "  except Exception as err:\n",
        "    print(\"Error occured!\", err)\n"
      ],
      "execution_count": 0,
      "outputs": [
        {
          "output_type": "stream",
          "text": [
            "submitting files for processing ['blocks_208fa84e-5b07-4029-bea3-5993e687c38c_image.jpg/ak5146@nyu.edu', 'blocks_118d629b-487c-480b-9141-1fa7b8b9e7d6_ak.jpg/ak5146@nyu.edu', 'blocks_8382a91f-989f-4d7c-b041-b5acb76fd0f1_image.jpg/ak5146@nyu.edu', 'wave_b2eeb66c-26a0-453c-888e-47c0280da565_image.jpg/ak5146@nyu.edu', 'night_bfb2dd34-9d5d-4a36-baea-348e0e350c7c_image.jpg/ak5146@nyu.edu', 'night_05805202-a242-4f07-a13c-93e0f3d26a77_1C1D2181-4DF2-470A-A62A-CF77A83B460B.jpeg/ak5146@nyu.edu', 'painting_fe12c62c-ae31-4f81-b3de-4464fd91adcb_image.jpg/khera.aniruddh@gmail.com', 'painting_73488306-612d-4892-8828-11f469259b84_image.jpg/khera.aniruddh@gmail.com']\n",
            "----> blocks_208fa84e-5b07-4029-bea3-5993e687c38c_image.jpg/ak5146@nyu.edu\n",
            "Start of iteration  0  of  blocks_208fa84e-5b07-4029-bea3-5993e687c38c_image.jpg\n",
            "Current loss value: 723885300000.0\n",
            "Iteration 0 completed in 19s\n",
            "Start of iteration  1  of  blocks_208fa84e-5b07-4029-bea3-5993e687c38c_image.jpg\n",
            "Current loss value: 324896520000.0\n",
            "Iteration 1 completed in 18s\n",
            "Start of iteration  2  of  blocks_208fa84e-5b07-4029-bea3-5993e687c38c_image.jpg\n",
            "Current loss value: 209584010000.0\n",
            "Iteration 2 completed in 18s\n",
            "Start of iteration  3  of  blocks_208fa84e-5b07-4029-bea3-5993e687c38c_image.jpg\n",
            "Current loss value: 167647070000.0\n",
            "Iteration 3 completed in 18s\n",
            "Start of iteration  4  of  blocks_208fa84e-5b07-4029-bea3-5993e687c38c_image.jpg\n"
          ],
          "name": "stdout"
        }
      ]
    },
    {
      "metadata": {
        "id": "0mNDfFAJCIz7",
        "colab_type": "code",
        "colab": {
          "autoexec": {
            "startup": false,
            "wait_interval": 0
          }
        }
      },
      "cell_type": "code",
      "source": [
        ""
      ],
      "execution_count": 0,
      "outputs": []
    }
  ]
}
